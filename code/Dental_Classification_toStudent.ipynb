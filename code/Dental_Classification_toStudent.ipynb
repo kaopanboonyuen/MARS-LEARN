{
  "nbformat": 4,
  "nbformat_minor": 0,
  "metadata": {
    "colab": {
      "provenance": [],
      "toc_visible": true,
      "gpuType": "T4"
    },
    "kernelspec": {
      "name": "python3",
      "display_name": "Python 3"
    },
    "language_info": {
      "name": "python"
    },
    "accelerator": "GPU"
  },
  "cells": [
    {
      "cell_type": "markdown",
      "source": [
        "# 🚀 **Dental Classification with PyTorch**  \n",
        "\n",
        "[![MARS AI](https://github.com/kaopanboonyuen/kaopanboonyuen.github.io/raw/main/files/MARS/MARSAIL.png)](https://github.com/kaopanboonyuen/MARS)\n",
        "\n",
        "## By Kao Panboonyuen\n",
        "\n",
        "### This Colab notebook will guide you through:\n",
        "\n",
        "* ✅ Preparing and loading the dataset\n",
        "* ✅ Exploring images and labels\n",
        "* ✅ Performing exploratory data analysis (EDA)\n",
        "* ✅ Splitting the dataset into Train/Val/Test (with fixed seed)\n",
        "* ✅ Training 3 models:\n",
        "     - 🏗️ Simple CNN (from scratch)\n",
        "     - 🔥 ResNet18 (Pretrained)\n",
        "     - 🏆 DenseNet (Pretrained)\n",
        "* ✅ Saving & loading model weights\n",
        "* ✅ Evaluating performance with accuracy, confusion matrix, precision, recall, F1-score\n",
        "* ✅ Visualizing correct & incorrect predictions for error analysis\n"
      ],
      "metadata": {
        "id": "u4azxK7ayPNE"
      }
    },
    {
      "cell_type": "markdown",
      "source": [
        "### 📌 **Step 1: Install & Import Required Libraries**"
      ],
      "metadata": {
        "id": "T4_cnl1Ryhl2"
      }
    },
    {
      "cell_type": "code",
      "source": [
        "!pip install torch==2.0.0+cu117 torchvision torchaudio --index-url https://download.pytorch.org/whl/cu117"
      ],
      "metadata": {
        "id": "1XCL8zZW1BIA"
      },
      "execution_count": null,
      "outputs": []
    },
    {
      "cell_type": "code",
      "source": [
        "!pip install --upgrade torchvision"
      ],
      "metadata": {
        "id": "nAr-pmKF_f1c"
      },
      "execution_count": null,
      "outputs": []
    },
    {
      "cell_type": "code",
      "execution_count": null,
      "metadata": {
        "id": "7Olv8adCtO4f"
      },
      "outputs": [],
      "source": [
        "import torch\n",
        "import torch.nn as nn\n",
        "import torch.optim as optim\n",
        "import torchvision.transforms as transforms\n",
        "import torchvision.datasets as datasets\n",
        "import torchvision.models as models\n",
        "from torch.utils.data import DataLoader, random_split\n",
        "import matplotlib.pyplot as plt\n",
        "import seaborn as sns\n",
        "import numpy as np\n",
        "from sklearn.metrics import confusion_matrix, classification_report, accuracy_score, precision_score, recall_score, f1_score\n",
        "import os\n",
        "import zipfile\n",
        "import requests\n",
        "import random\n",
        "import torch.nn.functional as F"
      ]
    },
    {
      "cell_type": "code",
      "source": [
        "import warnings\n",
        "warnings.filterwarnings(\"ignore\")"
      ],
      "metadata": {
        "id": "RQU7tZrR4nyk"
      },
      "execution_count": null,
      "outputs": []
    },
    {
      "cell_type": "code",
      "source": [
        "print(torch.cuda.is_available())\n",
        "print(torch.cuda.device_count())\n",
        "print(torch.cuda.get_device_name(0))"
      ],
      "metadata": {
        "id": "oDttK1b_3lBB"
      },
      "execution_count": null,
      "outputs": []
    },
    {
      "cell_type": "code",
      "source": [
        "# Download dataset\n",
        "!wget https://github.com/kaopanboonyuen/MARS-LEARN/raw/main/dataset/dental_dataset.zip -O dental-dataset.zip"
      ],
      "metadata": {
        "id": "Io55NAJ_ykD0"
      },
      "execution_count": null,
      "outputs": []
    },
    {
      "cell_type": "code",
      "source": [
        "!unzip dental-dataset.zip -d dataset >> logs.log"
      ],
      "metadata": {
        "id": "TzRTLs8_4zNi"
      },
      "execution_count": null,
      "outputs": []
    },
    {
      "cell_type": "markdown",
      "source": [
        "### 📌 **Step 2: Load & Prepare Dataset**"
      ],
      "metadata": {
        "id": "kjCZLQDezqLT"
      }
    },
    {
      "cell_type": "code",
      "source": [
        "# Define dataset path\n",
        "dataset_path = # Write your code here\n",
        "\n",
        "# Define image transformations\n",
        "transform = transforms.Compose([\n",
        "    transforms.Resize((224, 224)),\n",
        "    transforms.ToTensor(),\n",
        "])"
      ],
      "metadata": {
        "id": "w6bh9nI2zk8a"
      },
      "execution_count": null,
      "outputs": []
    },
    {
      "cell_type": "code",
      "source": [
        "# Load dataset\n",
        "dataset = datasets.ImageFolder(root=dataset_path, transform=transform)\n",
        "classes = # Write your code here  # Get class names\n",
        "print(\"Dataset classes:\", classes)"
      ],
      "metadata": {
        "id": "2GXTcN00zv7H"
      },
      "execution_count": null,
      "outputs": []
    },
    {
      "cell_type": "code",
      "source": [
        "# Split dataset (70% train, 15% validation, 15% test)\n",
        "train_size = # Write your code here\n",
        "val_size = # Write your code here\n",
        "test_size = len(dataset) - train_size - val_size\n",
        "\n",
        "train_dataset, val_dataset, test_dataset = random_split(dataset, [train_size, val_size, test_size])"
      ],
      "metadata": {
        "id": "eMQOgLKGzyV4"
      },
      "execution_count": null,
      "outputs": []
    },
    {
      "cell_type": "code",
      "source": [
        "# DataLoader (Batch Size = 32)\n",
        "batch_size = 32\n",
        "train_loader = DataLoader(train_dataset, batch_size=batch_size, shuffle=True)\n",
        "val_loader = DataLoader(val_dataset, batch_size=batch_size, shuffle=False)\n",
        "test_loader = DataLoader(test_dataset, batch_size=batch_size, shuffle=False)"
      ],
      "metadata": {
        "id": "7_nghB890Ap7"
      },
      "execution_count": null,
      "outputs": []
    },
    {
      "cell_type": "markdown",
      "source": [
        "### 📌 **Step 3: Preview Dataset**"
      ],
      "metadata": {
        "id": "TNZAbK0Z0Dua"
      }
    },
    {
      "cell_type": "code",
      "source": [
        "# Visualize a few images\n",
        "import matplotlib.pyplot as plt\n",
        "import random\n",
        "\n",
        "def show_images(dataset, num=6):\n",
        "    fig, axes = plt.subplots(1, num, figsize=(15, 5))\n",
        "    indices = random.sample(range(len(dataset)), num)  # Select random indices\n",
        "    for i, idx in enumerate(indices):\n",
        "        img, label = dataset[idx]\n",
        "        axes[i].imshow(img.permute(1, 2, 0))\n",
        "        axes[i].set_title(classes[label])\n",
        "        axes[i].axis('off')\n",
        "    plt.show()\n",
        "\n",
        "show_images(train_dataset)"
      ],
      "metadata": {
        "id": "__2fv1i00CnB"
      },
      "execution_count": null,
      "outputs": []
    },
    {
      "cell_type": "code",
      "source": [
        "show_images(train_dataset)"
      ],
      "metadata": {
        "id": "ZLhLcoWE0If1"
      },
      "execution_count": null,
      "outputs": []
    },
    {
      "cell_type": "code",
      "source": [
        "show_images(train_dataset)"
      ],
      "metadata": {
        "id": "4gLbGk5G0SYc"
      },
      "execution_count": null,
      "outputs": []
    },
    {
      "cell_type": "code",
      "source": [
        "show_images(train_dataset)"
      ],
      "metadata": {
        "id": "s_3cAfnl0FgN"
      },
      "execution_count": null,
      "outputs": []
    },
    {
      "cell_type": "markdown",
      "source": [
        "### 📌 **Step 4: Define Models**"
      ],
      "metadata": {
        "id": "b2Yr-Pb20dL7"
      }
    },
    {
      "cell_type": "markdown",
      "source": [
        "#### **Model 1: CNN from Scratch**"
      ],
      "metadata": {
        "id": "x1ffJgaT0eyE"
      }
    },
    {
      "cell_type": "code",
      "source": [
        "class SimpleCNN(nn.Module):\n",
        "    def __init__(self):\n",
        "        super(SimpleCNN, self).__init__()\n",
        "        self.conv1 = nn.Conv2d(3, 32, kernel_size=3, padding=1)\n",
        "        self.conv2 = nn.Conv2d(32, 64, kernel_size=3, padding=1)\n",
        "        self.pool = nn.MaxPool2d(2, 2)\n",
        "        self.fc1 = nn.Linear(64 * 56 * 56, 128)\n",
        "        self.fc2 = nn.Linear(128, len(classes))\n",
        "\n",
        "    def forward(self, x):\n",
        "        x = self.pool(F.relu(self.conv1(x)))\n",
        "        x = self.pool(F.relu(self.conv2(x)))\n",
        "        x = x.view(x.size(0), -1)\n",
        "        x = F.relu(self.fc1(x))\n",
        "        x = self.fc2(x)\n",
        "        return x"
      ],
      "metadata": {
        "id": "BDkg_E590TYd"
      },
      "execution_count": null,
      "outputs": []
    },
    {
      "cell_type": "markdown",
      "source": [
        "#### **Model 2: Pretrained ResNet18**"
      ],
      "metadata": {
        "id": "1gO98oEg0t4M"
      }
    },
    {
      "cell_type": "code",
      "source": [
        "# Write your code here\n",
        "\n",
        "for param in model_resnet.parameters():\n",
        "    param.requires_grad = False\n",
        "model_resnet.fc = nn.Linear(model_resnet.fc.in_features, len(classes))"
      ],
      "metadata": {
        "id": "Rjf_moK30g-h"
      },
      "execution_count": null,
      "outputs": []
    },
    {
      "cell_type": "markdown",
      "source": [
        "#### **Model 3: Pretrained DenseNet**"
      ],
      "metadata": {
        "id": "dqNQyLxZ0w4p"
      }
    },
    {
      "cell_type": "code",
      "source": [
        "# Write your code here\n",
        "\n",
        "for param in model_densenet.parameters():\n",
        "    param.requires_grad = False\n",
        "model_densenet.classifier = nn.Linear(model_densenet.classifier.in_features, len(classes))"
      ],
      "metadata": {
        "id": "oRDpKhuV0vaO"
      },
      "execution_count": null,
      "outputs": []
    },
    {
      "cell_type": "markdown",
      "source": [
        "### 📌 **Step 5: Train Function**"
      ],
      "metadata": {
        "id": "I1XRwEEq00KY"
      }
    },
    {
      "cell_type": "code",
      "source": [
        "def train_model(model, train_loader, val_loader, epochs=10, learning_rate=0.001):\n",
        "    device = torch.device(\"cuda\" if torch.cuda.is_available() else \"cpu\")\n",
        "    model.to(device)\n",
        "    criterion = nn.CrossEntropyLoss()\n",
        "    optimizer = optim.Adam(model.parameters(), lr=learning_rate)\n",
        "\n",
        "    train_losses, val_losses, train_accs, val_accs = [], [], [], []\n",
        "\n",
        "    for epoch in range(epochs):\n",
        "        model.train()\n",
        "        running_loss, correct, total = 0.0, 0, 0\n",
        "        for inputs, labels in train_loader:\n",
        "            inputs, labels = inputs.to(device), labels.to(device)\n",
        "            optimizer.zero_grad()\n",
        "            outputs = model(inputs)\n",
        "            loss = criterion(outputs, labels)\n",
        "            loss.backward()\n",
        "            optimizer.step()\n",
        "            running_loss += loss.item()\n",
        "            _, predicted = torch.max(outputs, 1)\n",
        "            total += labels.size(0)\n",
        "            correct += (predicted == labels).sum().item()\n",
        "\n",
        "        train_losses.append(running_loss / len(train_loader))\n",
        "        train_accs.append(correct / total)\n",
        "\n",
        "        print(f\"Epoch {epoch+1}: Train Loss = {train_losses[-1]:.4f}, Train Acc = {train_accs[-1]:.4f}\")\n",
        "\n",
        "    print(\"Training Complete!\")\n",
        "    return model, train_losses, train_accs"
      ],
      "metadata": {
        "id": "EDkwLyBf0yNi"
      },
      "execution_count": null,
      "outputs": []
    },
    {
      "cell_type": "markdown",
      "source": [
        "### 📌 **Step 6: Train Models**"
      ],
      "metadata": {
        "id": "5ZTIgROs04kP"
      }
    },
    {
      "cell_type": "code",
      "source": [
        "# Train Simple CNN\n",
        "\n",
        "# Write your code here"
      ],
      "metadata": {
        "id": "C-atuMym02OZ"
      },
      "execution_count": null,
      "outputs": []
    },
    {
      "cell_type": "code",
      "source": [
        "# Train ResNet\n",
        "\n",
        "# Write your code here"
      ],
      "metadata": {
        "id": "IeEDic0Y1aPA"
      },
      "execution_count": null,
      "outputs": []
    },
    {
      "cell_type": "code",
      "source": [
        "# Train DenseNet\n",
        "\n",
        "# Write your code here"
      ],
      "metadata": {
        "id": "Da1v7cjH1dPv"
      },
      "execution_count": null,
      "outputs": []
    },
    {
      "cell_type": "markdown",
      "source": [
        "### 📌 **Step 7: Evaluate Performance**"
      ],
      "metadata": {
        "id": "7MnpViJW4aL0"
      }
    },
    {
      "cell_type": "code",
      "source": [
        "import matplotlib.pyplot as plt\n",
        "import seaborn as sns\n",
        "from sklearn.metrics import confusion_matrix\n",
        "\n",
        "# Function to plot confusion matrix\n",
        "def plot_confusion_matrix(true_labels, predictions, classes):\n",
        "    cm = confusion_matrix(true_labels, predictions)\n",
        "    plt.figure(figsize=(8, 6))\n",
        "    sns.heatmap(cm, annot=True, fmt='d', cmap='Blues', xticklabels=classes, yticklabels=classes)\n",
        "    plt.title('Confusion Matrix')\n",
        "    plt.xlabel('Predicted')\n",
        "    plt.ylabel('True')\n",
        "    plt.show()"
      ],
      "metadata": {
        "id": "Nnf-9Yf634Gz"
      },
      "execution_count": null,
      "outputs": []
    },
    {
      "cell_type": "code",
      "source": [
        "from sklearn.metrics import accuracy_score, precision_score, recall_score, f1_score, classification_report\n",
        "\n",
        "def evaluate_model(model, test_loader, classes):\n",
        "    model.eval()\n",
        "    device = torch.device(\"cuda\" if torch.cuda.is_available() else \"cpu\")\n",
        "    model.to(device)\n",
        "    predictions, true_labels = [], []\n",
        "    with torch.no_grad():\n",
        "        for inputs, labels in test_loader:\n",
        "            inputs, labels = inputs.to(device), labels.to(device)\n",
        "            outputs = model(inputs)\n",
        "            _, predicted = torch.max(outputs, 1)\n",
        "            predictions.extend(predicted.cpu().numpy())\n",
        "            true_labels.extend(labels.cpu().numpy())\n",
        "\n",
        "    # Calculate performance metrics\n",
        "    acc = accuracy_score(true_labels, predictions)\n",
        "    precision = precision_score(true_labels, predictions, average='weighted')\n",
        "    recall = recall_score(true_labels, predictions, average='weighted')\n",
        "    f1 = f1_score(true_labels, predictions, average='weighted')\n",
        "\n",
        "    print(classification_report(true_labels, predictions, target_names=classes, digits=4))\n",
        "\n",
        "    # Plot confusion matrix\n",
        "    plot_confusion_matrix(true_labels, predictions, classes)\n",
        "\n",
        "    return acc, precision, recall, f1"
      ],
      "metadata": {
        "id": "q6fwUOeC73IQ"
      },
      "execution_count": null,
      "outputs": []
    },
    {
      "cell_type": "code",
      "source": [
        "# Evaluate Model\n",
        "\n",
        "# Write your code here"
      ],
      "metadata": {
        "id": "53XuVYkB44fl"
      },
      "execution_count": null,
      "outputs": []
    },
    {
      "cell_type": "markdown",
      "source": [
        "📌 Step 9: Save, Load, and Inference Model Weights"
      ],
      "metadata": {
        "id": "8yX8ITYY5sze"
      }
    },
    {
      "cell_type": "code",
      "source": [
        "# Save the trained model (DenseNet)\n",
        "# Write your code here\n",
        "print(\"Model DenseNet saved to DenseNet_model.pth\")"
      ],
      "metadata": {
        "id": "RWatOUit6REb"
      },
      "execution_count": null,
      "outputs": []
    },
    {
      "cell_type": "code",
      "source": [
        "import torch\n",
        "import torchvision.models as models\n",
        "import torch.nn as nn\n",
        "\n",
        "# Load the pre-trained DenseNet model structure\n",
        "model_densenet = models.densenet121(weights=models.DenseNet121_Weights.IMAGENET1K_V1)\n",
        "\n",
        "# Modify the final classifier layer to match your number of classes\n",
        "model_densenet.classifier = nn.Linear(model_densenet.classifier.in_features, len(classes))\n",
        "\n",
        "# Load the saved model weights\n",
        "# Write your code here\n",
        "print(\"Model DenseNet loaded from DenseNet_model.pth\")\n",
        "\n",
        "# Set the model to evaluation mode (important for inference)\n",
        "model_densenet.eval()\n",
        "\n",
        "# Now you can perform inference"
      ],
      "metadata": {
        "id": "5BWSNOwY6RVq"
      },
      "execution_count": null,
      "outputs": []
    },
    {
      "cell_type": "markdown",
      "source": [
        "### 📌 Step 10: Inference Model (Deployment)"
      ],
      "metadata": {
        "id": "rD9Nn-4o6ykw"
      }
    },
    {
      "cell_type": "code",
      "source": [
        "import torch\n",
        "import matplotlib.pyplot as plt\n",
        "import numpy as np\n",
        "from torchvision import transforms\n",
        "\n",
        "# Set the device to GPU if available, else CPU\n",
        "device = torch.device(\"cuda\" if torch.cuda.is_available() else \"cpu\")\n",
        "\n",
        "# Load the model and move to the device\n",
        "# Write your code here\n",
        "\n",
        "# Function to unnormalize and display the image\n",
        "def imshow(image):\n",
        "    # Move the image to CPU if it's on GPU\n",
        "    image = image.cpu()  # Move to CPU if necessary\n",
        "    image = image / 2 + 0.5  # Unnormalize\n",
        "    image = image.numpy().transpose((1, 2, 0))  # Convert to HxWxC\n",
        "    plt.imshow(image)\n",
        "    plt.show()\n",
        "\n",
        "# Perform inference on the test_loader\n",
        "correct = 0\n",
        "total = 0\n",
        "image_count = 0  # Counter for displaying images\n",
        "\n",
        "# Iterate over the test_loader\n",
        "for inputs, labels in test_loader:\n",
        "    inputs, labels = inputs.to(device), labels.to(device)  # Move to device (GPU or CPU)\n",
        "    # Write your code here # Perform forward pass\n",
        "\n",
        "    # Get predicted class (returns tensor of predicted class for the whole batch)\n",
        "    _, predicted = torch.max(outputs, 1)\n",
        "\n",
        "    # Iterate through each prediction in the batch\n",
        "    for i in range(len(predicted)):\n",
        "        if predicted[i] == labels[i]:\n",
        "            correct += 1\n",
        "            # If correct, show image with text (prediction and actual)\n",
        "            print(f\"Correct! Predicted: {classes[predicted[i]]}, Actual: {classes[labels[i]]}\")\n",
        "            imshow(inputs[i])  # Show the i-th image in the batch\n",
        "        else:\n",
        "            # If wrong, show image with text (prediction and actual)\n",
        "            print(f\"Wrong! Predicted: {classes[predicted[i]]}, Actual: {classes[labels[i]]}\")\n",
        "            imshow(inputs[i])  # Show the i-th image in the batch\n",
        "\n",
        "        image_count += 1\n",
        "\n",
        "        # Stop after 20 images\n",
        "        if image_count >= 20:\n",
        "            break\n",
        "\n",
        "    if image_count >= 20:\n",
        "        break\n",
        "\n",
        "    total += len(labels)"
      ],
      "metadata": {
        "id": "dHYi9RnMD0lw"
      },
      "execution_count": null,
      "outputs": []
    }
  ]
}