{
  "cells": [
    {
      "cell_type": "markdown",
      "metadata": {
        "id": "MhAbADlGPhZw"
      },
      "source": [
        "# 🚀 **Titanic Machine Learning Models Comparison**  \n",
        "\n",
        "[![MARS AI](https://github.com/kaopanboonyuen/kaopanboonyuen.github.io/raw/main/files/MARS/MARSAIL.png)](https://github.com/kaopanboonyuen/MARS)\n",
        "\n",
        "## By Kao Panboonyuen\n",
        "\n",
        "### This Colab notebook will guide you through:\n",
        "\n",
        "* ✅ Loading the Titanic dataset\n",
        "* ✅ Exploring and analyzing the data (EDA)\n",
        "* ✅ Splitting the data into training and testing sets\n",
        "* ✅ Training 3 machine learning models:\n",
        "     - 🏗️ **Random Forest Classifier**\n",
        "     - 🔥 **Gradient Boosting Classifier**\n",
        "     - 🏆 **Neural Network Classifier**\n",
        "* ✅ Evaluating model performance using:\n",
        "     - 📊 **Confusion Matrix**\n",
        "     - 📉 **Precision, Recall, F1-Score**\n",
        "* ✅ Comparing the performance of each model to find the best one"
      ]
    },
    {
      "cell_type": "markdown",
      "metadata": {
        "id": "pE9zn_u6PkNy"
      },
      "source": [
        "### 📌 **Step 1: Import Required Libraries**  \n",
        "\n",
        "To get started, we'll need several libraries for data manipulation, visualization, and machine learning tasks."
      ]
    },
    {
      "cell_type": "code",
      "execution_count": null,
      "metadata": {
        "id": "7Vr4F1S4PZGn"
      },
      "outputs": [],
      "source": [
        "# Import necessary libraries\n",
        "import pandas as pd\n",
        "import numpy as np\n",
        "import seaborn as sns\n",
        "import matplotlib.pyplot as plt\n",
        "from sklearn.model_selection import train_test_split\n",
        "from sklearn.ensemble import RandomForestClassifier, GradientBoostingClassifier\n",
        "from sklearn.neural_network import MLPClassifier\n",
        "from sklearn.metrics import confusion_matrix, classification_report, f1_score, precision_score, recall_score"
      ]
    },
    {
      "cell_type": "markdown",
      "metadata": {
        "id": "6tIOeK5wPnh2"
      },
      "source": [
        "### 📌 **Step 2: Load the Titanic Dataset**  \n",
        "\n",
        "Now, let's load the Titanic dataset from the provided GitHub URL."
      ]
    },
    {
      "cell_type": "code",
      "execution_count": null,
      "metadata": {
        "id": "xYEL46YCPmI0"
      },
      "outputs": [],
      "source": [
        "# Load Titanic dataset from the provided link\n",
        "URL = 'https://github.com/kaopanboonyuen/MARS-LEARN/blob/main/dataset/titanic-dataset.csv?raw=true'\n",
        "# Write your code here\n",
        "\n",
        "# Display the first few rows of the dataset\n",
        "# Write your code here"
      ]
    },
    {
      "cell_type": "markdown",
      "metadata": {
        "id": "vJw0HxhbPryf"
      },
      "source": [
        "### 📌 **Step 3: Exploratory Data Analysis (EDA) 🔍**  \n",
        "\n",
        "Before diving into the models, it's important to understand our data. We will look for missing values, visualize some basic distributions, and explore the relationships between different features."
      ]
    },
    {
      "cell_type": "markdown",
      "metadata": {
        "id": "TJxJnybmPuEp"
      },
      "source": [
        "#### 3.1 Checking for Missing Values\n",
        "\n",
        "We should start by checking for any missing values in the dataset."
      ]
    },
    {
      "cell_type": "code",
      "execution_count": null,
      "metadata": {
        "id": "0Pu5_SHWPqDV"
      },
      "outputs": [],
      "source": [
        "# Check for missing values\n",
        "# Write your code here"
      ]
    },
    {
      "cell_type": "markdown",
      "metadata": {
        "id": "1X9IrtnAPyOa"
      },
      "source": [
        "#### 3.2 Visualizing Data Distributions 📊\n",
        "\n",
        "Let's visualize the distribution of the \"Survived\" column (target variable) and some other features."
      ]
    },
    {
      "cell_type": "code",
      "execution_count": null,
      "metadata": {
        "id": "0uW-zDqtPwPz"
      },
      "outputs": [],
      "source": [
        "# Visualize the target variable \"Survived\"\n",
        "sns.countplot(x='Survived', data=data)\n",
        "plt.title('Distribution of Survived')\n",
        "plt.show()\n",
        "\n",
        "# Visualize the distribution of age\n",
        "sns.histplot(data['Age'].dropna(), kde=True)\n",
        "plt.title('Age Distribution')\n",
        "plt.show()"
      ]
    },
    {
      "cell_type": "markdown",
      "metadata": {
        "id": "E3q0twJFP1Xn"
      },
      "source": [
        "### 📌 **Step 4: Preprocess the Data ⚙️**  \n",
        "\n",
        "We need to handle missing values and convert categorical features into numerical ones. We will also split the dataset into features and labels."
      ]
    },
    {
      "cell_type": "code",
      "execution_count": null,
      "metadata": {
        "id": "2hVplU13Pzp-"
      },
      "outputs": [],
      "source": [
        "# Handle missing values (impute or drop)\n",
        "data['Age'].fillna(data['Age'].mean(), inplace=True)\n",
        "data['Embarked'].fillna(data['Embarked'].mode()[0], inplace=True)\n",
        "\n",
        "# Convert categorical features (Sex and Embarked) to numeric\n",
        "# Write your code here\n",
        "data = pd.get_dummies(data, columns=['Embarked'], drop_first=True)\n",
        "\n",
        "# Features and target variable\n",
        "X = data.drop(['Survived', 'Name', 'Ticket', 'Cabin', 'PassengerId'], axis=1)\n",
        "y = data['Survived']"
      ]
    },
    {
      "cell_type": "markdown",
      "metadata": {
        "id": "v6Q4x6ZkP5Lq"
      },
      "source": [
        "### 📌 **Step 5: Split the Data into Training and Testing Sets (with Fixed Seed)**  \n",
        "\n",
        "Now, let's split the data into training and testing sets, ensuring we can reproduce the results by setting a random seed."
      ]
    },
    {
      "cell_type": "code",
      "execution_count": null,
      "metadata": {
        "id": "nWuBu6_TP3Ml"
      },
      "outputs": [],
      "source": [
        "# Split the data with a fixed seed for reproducibility\n",
        "# Write your code here"
      ]
    },
    {
      "cell_type": "markdown",
      "metadata": {
        "id": "pTYMkiUlP8WH"
      },
      "source": [
        "### 📌 **Step 6: Train and Evaluate the Models 🏗️**  \n",
        "\n",
        "We will now train three different machine learning models: Random Forest, Gradient Boosting, and Neural Network."
      ]
    },
    {
      "cell_type": "markdown",
      "metadata": {
        "id": "KBh3L3tSP-Cn"
      },
      "source": [
        "#### 6.1 Random Forest Classifier"
      ]
    },
    {
      "cell_type": "code",
      "execution_count": null,
      "metadata": {
        "id": "8EIdH0EOP686"
      },
      "outputs": [],
      "source": [
        "# Train Random Forest Classifier\n",
        "# Write your code here\n",
        "\n",
        "# Evaluate the model\n",
        "rf_pred = rf_model.predict(X_test)\n",
        "print(\"Random Forest Classifier - Classification Report:\\n\", classification_report(y_test, rf_pred, digits=4))"
      ]
    },
    {
      "cell_type": "markdown",
      "metadata": {
        "id": "tXd_FYaYQVMK"
      },
      "source": [
        "#### 6.2 Gradient Boosting Classifier 🔥"
      ]
    },
    {
      "cell_type": "code",
      "execution_count": null,
      "metadata": {
        "id": "bpnNVYWSP_nr"
      },
      "outputs": [],
      "source": [
        "# Train Gradient Boosting Classifier\n",
        "# Write your code here\n",
        "\n",
        "# Evaluate the model\n",
        "gb_pred = gb_model.predict(X_test)\n",
        "print(\"Gradient Boosting Classifier - Classification Report:\\n\", classification_report(y_test, gb_pred, digits=4))"
      ]
    },
    {
      "cell_type": "markdown",
      "metadata": {
        "id": "gYEE-63NQYeB"
      },
      "source": [
        "#### 6.3 Neural Network Classifier 🏆"
      ]
    },
    {
      "cell_type": "code",
      "execution_count": null,
      "metadata": {
        "id": "WR-XypWzQXTr"
      },
      "outputs": [],
      "source": [
        "# Train Neural Network Classifier (MLP)\n",
        "# Write your code here\n",
        "\n",
        "# Evaluate the model\n",
        "nn_pred = nn_model.predict(X_test)\n",
        "print(\"Neural Network Classifier - Classification Report:\\n\", classification_report(y_test, nn_pred, digits=4))"
      ]
    },
    {
      "cell_type": "markdown",
      "metadata": {
        "id": "FTyrYZ7RQcUh"
      },
      "source": [
        "### 📌 **Step 7: Confusion Matrix and Performance Comparison 📊**  \n",
        "\n",
        "Let's create confusion matrices and compare the F1-score, Precision, and Recall for each model."
      ]
    },
    {
      "cell_type": "markdown",
      "metadata": {
        "id": "MX3R3vTlQdpr"
      },
      "source": [
        "#### 7.1 Confusion Matrix"
      ]
    },
    {
      "cell_type": "code",
      "execution_count": null,
      "metadata": {
        "id": "vu3scfWWQaA9"
      },
      "outputs": [],
      "source": [
        "# Confusion Matrix for Random Forest\n",
        "plt.figure(figsize=(6, 6))\n",
        "sns.heatmap(confusion_matrix(y_test, rf_pred), annot=True, fmt='d', cmap='Blues')\n",
        "plt.title(\"Random Forest Confusion Matrix\")\n",
        "plt.show()\n",
        "\n",
        "# Confusion Matrix for Gradient Boosting\n",
        "plt.figure(figsize=(6, 6))\n",
        "sns.heatmap(confusion_matrix(y_test, gb_pred), annot=True, fmt='d', cmap='Blues')\n",
        "plt.title(\"Gradient Boosting Confusion Matrix\")\n",
        "plt.show()\n",
        "\n",
        "# Confusion Matrix for Neural Network\n",
        "plt.figure(figsize=(6, 6))\n",
        "sns.heatmap(confusion_matrix(y_test, nn_pred), annot=True, fmt='d', cmap='Blues')\n",
        "plt.title(\"Neural Network Confusion Matrix\")\n",
        "plt.show()"
      ]
    },
    {
      "cell_type": "markdown",
      "metadata": {
        "id": "Rqv4Jmt9QgW2"
      },
      "source": [
        "#### 7.2 Performance Metrics Comparison"
      ]
    },
    {
      "cell_type": "code",
      "execution_count": null,
      "metadata": {
        "id": "2jsRmK-VQfHW"
      },
      "outputs": [],
      "source": [
        "f1_rf = f1_score(y_test, rf_pred)\n",
        "f1_gb = f1_score(y_test, gb_pred)\n",
        "f1_nn = f1_score(y_test, nn_pred)\n",
        "\n",
        "print(f\"Random Forest F1-Score: {f1_rf:.4f}\")\n",
        "print(f\"Gradient Boosting F1-Score: {f1_gb:.4f}\")\n",
        "print(f\"Neural Network F1-Score: {f1_nn:.4f}\")\n",
        "\n",
        "# Precision and Recall Comparison\n",
        "precision_rf = precision_score(y_test, rf_pred)\n",
        "precision_gb = precision_score(y_test, gb_pred)\n",
        "precision_nn = precision_score(y_test, nn_pred)\n",
        "\n",
        "recall_rf = recall_score(y_test, rf_pred)\n",
        "recall_gb = recall_score(y_test, gb_pred)\n",
        "recall_nn = recall_score(y_test, nn_pred)\n",
        "\n",
        "print(f\"Random Forest Precision: {precision_rf:.4f}, Recall: {recall_rf:.4f}\")\n",
        "print(f\"Gradient Boosting Precision: {precision_gb:.4f}, Recall: {recall_gb:.4f}\")\n",
        "print(f\"Neural Network Precision: {precision_nn:.4f}, Recall: {recall_nn:.4f}\")"
      ]
    },
    {
      "cell_type": "markdown",
      "metadata": {
        "id": "ND-vSlnLQj3g"
      },
      "source": [
        "### 📌 **Step 8: Model Comparison 🏆**  "
      ]
    },
    {
      "cell_type": "markdown",
      "metadata": {
        "id": "lE2GMPqjq81B"
      },
      "source": [
        "### 📌 **Step 9: Save the Model and Perform Inference 🚀**  \n"
      ]
    },
    {
      "cell_type": "code",
      "execution_count": null,
      "metadata": {
        "id": "ot66552irOjI"
      },
      "outputs": [],
      "source": [
        "import joblib  # For saving and loading model"
      ]
    },
    {
      "cell_type": "code",
      "execution_count": null,
      "metadata": {
        "id": "zDy5PzTcrE8S"
      },
      "outputs": [],
      "source": [
        "# Save the trained model\n",
        "# Write your code here\n",
        "\n",
        "print(\"✅ Model saved as 'mars_random_forest.pth'\")"
      ]
    },
    {
      "cell_type": "markdown",
      "metadata": {
        "id": "Mlwk6lsjrFSJ"
      },
      "source": [
        "### 📌 **Step 10: Load the Model and Perform Inference 🚀**  \n"
      ]
    },
    {
      "cell_type": "code",
      "execution_count": null,
      "metadata": {
        "id": "c-2C4V2brGn0"
      },
      "outputs": [],
      "source": [
        "# Load the saved model\n",
        "# Write your code here\n",
        "\n",
        "print(\"✅ Model loaded successfully!\")\n",
        "\n",
        "# Sample data for inference (มาร์ส's details)\n",
        "mars_data = pd.DataFrame({\n",
        "    'Pclass': [3],  # 3rd class\n",
        "    'Sex_male': [1],  # Male\n",
        "    'Age': [30],  # Age 30\n",
        "    'SibSp': [0],  # No siblings/spouse\n",
        "    'Parch': [0],  # No parents/children\n",
        "    'Fare': [7.5],  # Low fare\n",
        "    'Embarked_Q': [0], 'Embarked_S': [1]  # Embarked from Southampton\n",
        "})\n",
        "\n",
        "# Ensure the sample data has the same columns as training data\n",
        "missing_cols = set(X_train.columns) - set(mars_data.columns)\n",
        "for col in missing_cols:\n",
        "    mars_data[col] = 0  # Add missing columns with default value 0\n",
        "\n",
        "# Reorder columns to match training data\n",
        "mars_data = mars_data[X_train.columns]"
      ]
    },
    {
      "cell_type": "code",
      "execution_count": null,
      "metadata": {
        "id": "LupLVlNQrgR3"
      },
      "outputs": [],
      "source": [
        "# Predict survival for มาร๋ส\n",
        "# Write your code here\n",
        "\n",
        "result = \"Survived 😃\" if prediction == 1 else \"Did not survive 😔\"\n",
        "print(f\"Prediction for มาร์ส: {result}\")"
      ]
    },
    {
      "cell_type": "markdown",
      "metadata": {
        "id": "RMPssU7pQm_X"
      },
      "source": [
        "Finally, we will compare the performance of the three models to determine which one performed the best.\n",
        "\n",
        "- Based on **F1-Score**, **Precision**, and **Recall**, we will decide the winning model.\n",
        "\n",
        "---\n",
        "\n",
        "### 🎉 **Conclusion**  \n",
        "\n",
        "In this notebook, we have:\n",
        "- Loaded and preprocessed the Titanic dataset.\n",
        "- Performed exploratory data analysis (EDA).\n",
        "- Built and evaluated three different machine learning models: Random Forest, Gradient Boosting, and Neural Networks.\n",
        "- Compared the performance of each model using confusion matrices and classification reports."
      ]
    }
  ],
  "metadata": {
    "colab": {
      "provenance": [],
      "toc_visible": true
    },
    "kernelspec": {
      "display_name": "Python 3",
      "name": "python3"
    },
    "language_info": {
      "name": "python"
    }
  },
  "nbformat": 4,
  "nbformat_minor": 0
}
